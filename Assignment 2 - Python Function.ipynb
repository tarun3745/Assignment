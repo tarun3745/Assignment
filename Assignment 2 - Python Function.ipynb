{
 "cells": [
  {
   "cell_type": "markdown",
   "metadata": {},
   "source": [
    "## Problem Statement"
   ]
  },
  {
   "cell_type": "markdown",
   "metadata": {},
   "source": [
    "Q.1 Write a Python Program to implement your own myreduce() function which works exactly like\n",
    "Python's built-in function reduce()\n"
   ]
  },
  {
   "cell_type": "code",
   "execution_count": 3,
   "metadata": {},
   "outputs": [
    {
     "name": "stdout",
     "output_type": "stream",
     "text": [
      "Output is :  43\n"
     ]
    }
   ],
   "source": [
    "def myreduce(func1, input_list):\n",
    "    sum1 = 0\n",
    "    i = 0\n",
    "    while i < len(input_list):\n",
    "        x = sum1\n",
    "        y = input_list[i]\n",
    "        sum1 = func1(x,y)\n",
    "        i += 1\n",
    "    return sum1\n",
    "\n",
    "if __name__ == '__main__':\n",
    "    print(\"Output is : \" , myreduce(lambda m,n: m+n , [2,6,4,9,6,7,9]))"
   ]
  },
  {
   "cell_type": "markdown",
   "metadata": {},
   "source": [
    "Q.2 Write a Python program to implement your own myfilter() function which works exactly like\n",
    "Python's built-in function filter()"
   ]
  },
  {
   "cell_type": "code",
   "execution_count": 5,
   "metadata": {},
   "outputs": [
    {
     "name": "stdout",
     "output_type": "stream",
     "text": [
      "Output is :  [2, 6, 4, 6]\n"
     ]
    }
   ],
   "source": [
    "def myfilter(func1, input_list):\n",
    "    filtered_output = []\n",
    "    i = 0\n",
    "    while i < len(input_list):\n",
    "        result = func1(input_list[i])\n",
    "        if result == True:\n",
    "            filtered_output.append(input_list[i])\n",
    "        i += 1\n",
    "    return filtered_output\n",
    "\n",
    "if __name__ == '__main__':\n",
    "    print(\"Output is : \" , myfilter(lambda m: True if m % 2 == 0 else False , [2,5,6,4,9,6,7,9]))"
   ]
  },
  {
   "cell_type": "markdown",
   "metadata": {},
   "source": [
    "Q.3 Implement List comprehensions to produce the following lists.\n",
    "   Write List comprehensions to produce the following Lists\n",
    "   \n",
    "    ['A', 'C', 'A', 'D', 'G', 'I', ’L’, ‘ D’]\n",
    "   \n",
    "    ['x', 'xx', 'xxx', 'xxxx', 'y', 'yy', 'yyy', 'yyyy', 'z', 'zz', 'zzz', 'zzzz']\n",
    "\n",
    "    ['x', 'y', 'z', 'xx', 'yy', 'zz', 'xx', 'yy', 'zz', 'xxxx', 'yyyy', 'zzzz']\n",
    "    \n",
    "    [[2], [3], [4], [3], [4], [5], [4], [5], [6]]\n",
    "\n",
    "    [[2, 3, 4, 5], [3, 4, 5, 6], [4, 5, 6, 7], [5, 6, 7, 8]]\n",
    "\n",
    "    [(1, 1), (2, 1), (3, 1), (1, 2), (2, 2), (3, 2), (1, 3), (2, 3), (3, 3)]"
   ]
  },
  {
   "cell_type": "code",
   "execution_count": 3,
   "metadata": {},
   "outputs": [
    {
     "data": {
      "text/plain": [
       "[(1, 1), (2, 1), (3, 1), (1, 2), (2, 2), (3, 2), (1, 3), (2, 3), (3, 3)]"
      ]
     },
     "execution_count": 3,
     "metadata": {},
     "output_type": "execute_result"
    }
   ],
   "source": [
    "['A', 'C', 'A', 'D', 'G', 'I', 'L', 'D']\n",
    "['x', 'xx', 'xxx', 'xxxx', 'y', 'yy', 'yyy', 'yyyy', 'z', 'zz', 'zzz', 'zzzz']\n",
    "['x', 'y', 'z', 'xx', 'yy', 'zz', 'xxx', 'yyy', 'zzz', 'xxxx', 'yyyy', 'zzzz']\n",
    "[[2], [3], [4], [3], [4], [5], [4], [5], [6]]\n",
    "[[2, 3, 4, 5], [3, 4, 5, 6], [4, 5, 6, 7], [5, 6, 7, 8]]\n",
    "[(1, 1), (2, 1), (3, 1), (1, 2), (2, 2), (3, 2), (1, 3), (2, 3), (3, 3)]"
   ]
  },
  {
   "cell_type": "markdown",
   "metadata": {},
   "source": [
    "Q.4 Implement a function longestWord() that takes a list of words and returns the longest one."
   ]
  },
  {
   "cell_type": "code",
   "execution_count": 4,
   "metadata": {},
   "outputs": [
    {
     "name": "stdout",
     "output_type": "stream",
     "text": [
      "The longest word from the given list is : samsungtv\n"
     ]
    }
   ],
   "source": [
    "def longestWord(input_list):\n",
    "    dict_list = {x : len(x) for x in input_list}\n",
    "    max_word_length = max(list(dict_list.values()))\n",
    "    return list(dict_list.keys())[list(dict_list.values()).index(max_word_length)]\n",
    "\n",
    "\n",
    "input_list = [\"hi\" , \"monday\" , \"holiday\" , \"samsungtv\"]\n",
    "print(\"The longest word from the given list is :\" , longestWord(input_list))"
   ]
  },
  {
   "cell_type": "markdown",
   "metadata": {},
   "source": [
    "Q.5 Write a Python Program(with class concepts) to find the area of the triangle using the below\n",
    "formula.\n",
    "\n",
    "area = (s*(s-a)*(s-b)*(s-c)) ** 0.5\n",
    "\n",
    "Function to take the length of the sides of triangle from user should be defined in the parent\n",
    "class and function to calculate the area should be defined in subclass."
   ]
  },
  {
   "cell_type": "code",
   "execution_count": 10,
   "metadata": {},
   "outputs": [
    {
     "name": "stdout",
     "output_type": "stream",
     "text": [
      "Enter the length of side 1: 5.5\n",
      "Enter the length of side 2: 6.2\n",
      "Enter the length of side 3: 4.8\n",
      "The Area of the given Triange is :  80.23\n"
     ]
    }
   ],
   "source": [
    "class createTriangle():\n",
    "    def __init__(self, a , b , c):\n",
    "        self.a = a\n",
    "        self.b = b\n",
    "        self.c = c\n",
    "    def semi_perimeter(self):\n",
    "        return (self.a + self.b + self.c)/2\n",
    "    \n",
    "class Triangle(createTriangle):\n",
    "    def __init__(self, *args, **kwargs):\n",
    "        super(Triangle,self).__init__(*args, **kwargs)\n",
    "    def __str__(self):\n",
    "        return \"The sides of the triangle are {}, {} and {}\".format(self.a, self.b, self.c)\n",
    "    def area(self):\n",
    "        self.__s = super(Triangle,self).semi_perimeter()\n",
    "        self.__area = (self.__s * (self.__s - self.a) * (self.__s - self.b) * (self.__s - self.c)) / 2\n",
    "        return self.__area\n",
    "\n",
    "if __name__ == '__main__':\n",
    "    a = float(input(\"Enter the length of side 1: \"))\n",
    "    b = float(input(\"Enter the length of side 2: \"))\n",
    "    c = float(input(\"Enter the length of side 3: \"))\n",
    "    \n",
    "    tri1 = Triangle(a,b,c)\n",
    "    \n",
    "    print(\"The Area of the given Triange is : \", round(tri1.area(), 2))"
   ]
  },
  {
   "cell_type": "markdown",
   "metadata": {},
   "source": [
    "Q.6 Write a function filter_long_words() that takes a list of words and an integer n and returns the list\n",
    "of words that are longer than n."
   ]
  },
  {
   "cell_type": "code",
   "execution_count": 9,
   "metadata": {},
   "outputs": [
    {
     "name": "stdout",
     "output_type": "stream",
     "text": [
      "The words longer than length 4 from the given list is : ['monday', 'holiday', 'samsungtv']\n"
     ]
    }
   ],
   "source": [
    "def filter_longWords(input_list, n):\n",
    "    output_list = []\n",
    "    for word in input_list:\n",
    "        if len(word) > n:\n",
    "            output_list.append(word)\n",
    "    return output_list\n",
    "            \n",
    "input_list = [\"hi\" , \"yes\", \"monday\" , \"four\", \"holiday\" , \"samsungtv\"]\n",
    "n = 4\n",
    "\n",
    "print(\"The words longer than length {} from the given list is : {}\".format(n, filter_longWords(input_list,n)))"
   ]
  },
  {
   "cell_type": "markdown",
   "metadata": {},
   "source": [
    "Q.7 Write a Python program using function concept that maps list of words into a list of integers\n",
    "representing the lengths of the corresponding words.\n",
    "    \n",
    "    Hint: If a list [ ab,cde,erty] is passed on to the python function output should come as [2,3,4]\n",
    "    Here 2,3 and 4 are the lengths of the words in the list."
   ]
  },
  {
   "cell_type": "code",
   "execution_count": 8,
   "metadata": {},
   "outputs": [
    {
     "name": "stdout",
     "output_type": "stream",
     "text": [
      "The length of given words are :  [2, 3, 6, 4, 7, 9]\n"
     ]
    }
   ],
   "source": [
    "def length_list(input_list):\n",
    "    output_list = [len(x) for x in input_list]\n",
    "    return output_list\n",
    "\n",
    "input_list = [\"hi\" , \"yes\", \"monday\" , \"four\", \"holiday\" , \"samsungtv\"]\n",
    "\n",
    "print(\"The length of given words are : \", length_list(input_list))"
   ]
  },
  {
   "cell_type": "markdown",
   "metadata": {},
   "source": [
    "Q.8 Write a Python function which takes a character (i.e. a string of length 1) and returns True if it is\n",
    "a vowel, False otherwise."
   ]
  },
  {
   "cell_type": "code",
   "execution_count": 7,
   "metadata": {},
   "outputs": [
    {
     "name": "stdout",
     "output_type": "stream",
     "text": [
      "Enter a character to check whether it is vowel: E\n",
      " :) Entered character is a vowel\n"
     ]
    }
   ],
   "source": [
    "def is_vowel(charac):\n",
    "    if len(charac) == 1 and charac in 'aeiouAEIOU':\n",
    "        return True\n",
    "    else:\n",
    "        return False\n",
    "    \n",
    "input_charac = input(\"Enter a character to check whether it is vowel: \")\n",
    "\n",
    "if is_vowel(input_charac) == True:\n",
    "    print(\" :) Entered character is a vowel\")\n",
    "else:\n",
    "    print(\" :( Entered character is not a vowel\")"
   ]
  },
  {
   "cell_type": "markdown",
   "metadata": {},
   "source": [
    "## Great job!"
   ]
  }
 ],
 "metadata": {
  "kernelspec": {
   "display_name": "Python 3",
   "language": "python",
   "name": "python3"
  },
  "language_info": {
   "codemirror_mode": {
    "name": "ipython",
    "version": 3
   },
   "file_extension": ".py",
   "mimetype": "text/x-python",
   "name": "python",
   "nbconvert_exporter": "python",
   "pygments_lexer": "ipython3",
   "version": "3.7.6"
  }
 },
 "nbformat": 4,
 "nbformat_minor": 2
}
